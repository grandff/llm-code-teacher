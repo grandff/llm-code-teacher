{
 "cells": [
  {
   "cell_type": "code",
   "execution_count": 1,
   "metadata": {},
   "outputs": [],
   "source": [
    "from celery import Celery\n",
    "import os\n",
    "from dotenv import load_dotenv\n",
    "from ollama import Client\n",
    "import httpx\n",
    "from langchain_community.chat_models.ollama import ChatOllama\n",
    "from langchain_core.prompts import ChatPromptTemplate, PromptTemplate"
   ]
  },
  {
   "cell_type": "code",
   "execution_count": 2,
   "metadata": {},
   "outputs": [],
   "source": [
    "# markdown 파일 생성\n",
    "def save_md_to_file(markdown_str : str, directory : str, file_name : str) :\n",
    "    # 디렉토리가 존재하지 않으면 생성\n",
    "    if not os.path.exists(directory):\n",
    "        os.makedirs(directory)\n",
    "        \n",
    "     # 파일 경로 생성\n",
    "    file_path = os.path.join(directory, file_name)\n",
    "    \n",
    "    with open(file_path, 'w', encoding='utf-8') as f:\n",
    "        f.write(markdown_str)\n",
    "    \n",
    "    # 파일 객체 정보 변환\n",
    "    file_info = {\n",
    "        'file_path' : file_path,\n",
    "        'file_name' : os.path.getsize(file_path)\n",
    "    }\n",
    "    \n",
    "    return file_info"
   ]
  },
  {
   "cell_type": "code",
   "execution_count": 3,
   "metadata": {},
   "outputs": [],
   "source": [
    "# 각 파일당 하나씩 프롬프트 생성하기\n",
    "user_prompt = '''\n",
    "You are an experienced technical writer skilled in documenting and formatting code reviews. \n",
    "Your task is to take the results from a code review and format them into a markdown file. \n",
    "The markdown file must be written in English and should include the following sections: Analysis Summary, Key Features, Pre-condition Check, Runtime Error Check, Optimization, Security Issue, and Evaluation. \n",
    "Each section should be formatted appropriately:\n",
    "\n",
    "- **Analysis Summary:** Summarize the code review findings in one or two lines.\n",
    "- **Key Features:** Analyze and describe the key features of the added or modified files.\n",
    "- **Precondition checks:** Checks that a function or method has the necessary variable states or ranges of values to function correctly.\n",
    "- **Runtime error checking:** Examines code for possible runtime errors and identifies other potential risks.\n",
    "- **Optimization:** Scan your code and recommend optimized code. When recommending code, be sure to include the full source of the file. Please write your code using code blocks to conform to the markdown format - this is a must. \n",
    "- **Security issues:** Scans your code to see if it uses modules with serious security flaws or contains security vulnerabilities.\n",
    "- **Evaluation:** Comprehensively evaluates your work. Consider the quality, functionality, and maintainability of the code.\n",
    "            \n",
    "Ensure the markdown document is clear, well-structured, and easy to read.\n",
    "```python\n",
    "# main.py\n",
    "import requests\n",
    "from bs4 import BeautifulSoup\n",
    "from langchain.agents import initialize_agent, AgentType\n",
    "import json\n",
    "import random\n",
    "import re\n",
    "from fastapi.requests import Request\n",
    "from fastapi import FastAPI, HTTPException, Query, Header, Depends\n",
    "from dotenv import load_dotenv\n",
    "import os\n",
    "from langchain.schema import StrOutputParser\n",
    "import time\n",
    "from urllib.parse import urlparse\n",
    "from langchain_openai.chat_models import ChatOpenAI\n",
    "from langchain.prompts import ChatPromptTemplate\n",
    "from langchain.schema import SystemMessage\n",
    "\n",
    "```\n",
    "'''"
   ]
  },
  {
   "cell_type": "code",
   "execution_count": 4,
   "metadata": {},
   "outputs": [],
   "source": [
    "# llm 생성\n",
    "llama_llm = ChatOllama(           \n",
    "    base_url = \"http://localhost:11434\",\n",
    "    model=\"llama3.1\",\n",
    "    temperature=0,\n",
    ")     \n",
    "mistral_llm = ChatOllama(\n",
    "    base_url = \"http://localhost:11434\",\n",
    "    model=\"mistral\",\n",
    "    temperature=0,\n",
    ")     \n"
   ]
  },
  {
   "cell_type": "code",
   "execution_count": 5,
   "metadata": {},
   "outputs": [],
   "source": [
    "# prompt 생성\n",
    "code_review_messages = ChatPromptTemplate.from_messages([\n",
    "    (\"system\", \"\"\"\n",
    "    You're a very good software analyst. From now on, users will show you the entire committed source code. Take a look at it, analyze it, and tell us what you find. \n",
    "    After looking at the source code, present an optimized version of the code, including performance improvements. \n",
    "\n",
    "    As you analyze the source code, keep the following topics in mind as you do so\n",
    "    - Analysis summary: Summarize your code review findings in one or two lines.\n",
    "    - Key features: Analyze and describe the key features of each file.\n",
    "    - Prerequisite checks: Verify that the function or method has the necessary variable states or value ranges to function correctly.\n",
    "    - Runtime error checking: Inspect your code for possible runtime errors and identify other potential risks.\n",
    "    - Optimization: Scans code patches for optimization points and recommends optimized code if it appears to be degrading performance. \n",
    "    - Security issues: Scan your code to see if it uses modules with serious security flaws or contains security vulnerabilities.\n",
    "    - Evaluation: Evaluate your work comprehensively. Considers the quality, functionality, and maintainability of the code.\n",
    "\n",
    "    Return a response in markdown so that your analysis is easy to parse.\n",
    "    The topics above are the same as the subheadings in your final analysis. In particular, be sure to write the entire code in the form of code blocks in Markdown for optimizations.\n",
    "    The Markdown documentation must be written in Korean.\n",
    "    Do not write any additional text other than the response values in Markdown format.\n",
    "    \"\"\"),\n",
    "    (\"human\", \"{prompt}\")\n",
    "])\n",
    "translate_messages = ChatPromptTemplate.from_messages([\n",
    "    (\"system\", \"\"\"\n",
    "    You are an excellent translator. Please translate the markdown written by the user into Korean. \n",
    "    At this time, for the content in the code block, only the annotation should be translated, and the code should be left as it is.\n",
    "    \"\"\"),\n",
    "    (\"human\", \"{review_result}\")\n",
    "])"
   ]
  },
  {
   "cell_type": "code",
   "execution_count": 6,
   "metadata": {},
   "outputs": [],
   "source": [
    "# chain 생성\n",
    "# 1. 코드 분석 실행. 어떤 코드고, 리팩토링하면 좋은 것 까지.\n",
    "review_chain = code_review_messages | llama_llm"
   ]
  },
  {
   "cell_type": "code",
   "execution_count": 7,
   "metadata": {},
   "outputs": [],
   "source": [
    "# 2. 해당 코드 분석을 포멧에 맞게 변환.\n",
    "translate_chain = translate_messages | mistral_llm"
   ]
  },
  {
   "cell_type": "code",
   "execution_count": 8,
   "metadata": {},
   "outputs": [],
   "source": [
    "# 체인 실행\n",
    "final_chain = {\"review_result\" : review_chain} | translate_chain"
   ]
  },
  {
   "cell_type": "code",
   "execution_count": 9,
   "metadata": {},
   "outputs": [],
   "source": [
    "# 데이터 리턴\n",
    "result = final_chain.invoke({\n",
    "    \"prompt\" : user_prompt\n",
    "})"
   ]
  },
  {
   "cell_type": "code",
   "execution_count": 10,
   "metadata": {},
   "outputs": [],
   "source": [
    "# 파일생성\n",
    "file_dir = \"./\"\n",
    "file_name = \"example.md\"\n",
    "file_info = save_md_to_file(result.content, file_dir, file_name)"
   ]
  }
 ],
 "metadata": {
  "kernelspec": {
   "display_name": ".venv",
   "language": "python",
   "name": "python3"
  },
  "language_info": {
   "codemirror_mode": {
    "name": "ipython",
    "version": 3
   },
   "file_extension": ".py",
   "mimetype": "text/x-python",
   "name": "python",
   "nbconvert_exporter": "python",
   "pygments_lexer": "ipython3",
   "version": "3.12.4"
  }
 },
 "nbformat": 4,
 "nbformat_minor": 2
}
